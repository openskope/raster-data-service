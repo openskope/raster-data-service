{
 "cells": [
  {
   "cell_type": "markdown",
   "metadata": {},
   "source": [
    "### Import standard GDAL and NumPy packages"
   ]
  },
  {
   "cell_type": "code",
   "execution_count": 1,
   "metadata": {},
   "outputs": [],
   "source": [
    "import numpy as np\n",
    "from osgeo import gdal"
   ]
  },
  {
   "cell_type": "markdown",
   "metadata": {},
   "source": [
    "### Import skope.RasterDataset class"
   ]
  },
  {
   "cell_type": "code",
   "execution_count": 2,
   "metadata": {},
   "outputs": [],
   "source": [
    "from skope import RasterDataset"
   ]
  },
  {
   "cell_type": "markdown",
   "metadata": {},
   "source": [
    "### Set the location and name of the data set files to create"
   ]
  },
  {
   "cell_type": "code",
   "execution_count": 3,
   "metadata": {},
   "outputs": [],
   "source": [
    "test_dataset_filename = '../data/annual_5x5x5_dataset_float32_variable.tif'\n",
    "test_dataset_uncertainty_filename = '../data/annual_5x5x5_dataset_float32_variable_uncertainty.tif'"
   ]
  },
  {
   "cell_type": "markdown",
   "metadata": {},
   "source": [
    "### Create the test dataset and uncertainty files using a local utility function"
   ]
  },
  {
   "cell_type": "code",
   "execution_count": 4,
   "metadata": {},
   "outputs": [],
   "source": [
    "dataset = RasterDataset.create(test_dataset_filename,\n",
    "                               file_format='GTiff',\n",
    "                               pixel_type=gdal.GDT_Float32, \n",
    "                               shape=(5, 5, 5),\n",
    "                               origin=(-123, 45),\n",
    "                               pixel_size=(1.0, 1.0))\n",
    "\n",
    "dataset_uncertainty = RasterDataset.create(test_dataset_uncertainty_filename,\n",
    "                                           file_format='GTiff',\n",
    "                                           pixel_type=gdal.GDT_Float32, \n",
    "                                           shape=(5, 5, 5),\n",
    "                                           origin=(-123, 45),\n",
    "                                           pixel_size=(1.0, 1.0))"
   ]
  },
  {
   "cell_type": "markdown",
   "metadata": {},
   "source": [
    "### Define the pixel values to be assigned to the first band of the data set and uncertainties"
   ]
  },
  {
   "cell_type": "code",
   "execution_count": 5,
   "metadata": {},
   "outputs": [],
   "source": [
    "import math\n",
    "nodata = math.nan\n",
    "\n",
    "band_1_data = np.array([\n",
    "    [100, 101.1, 102.2, 103.3, 104.4],\n",
    "    [110, 111.1, 112.2, 113.3, 114.4],\n",
    "    [120, 121.1, 122.2, 123.3, 124.4],\n",
    "    [130, 131.1, 132.2, 133.3, nodata],\n",
    "    [140, 141.1, 142.2, 143.3, 144.4]\n",
    "])\n",
    "\n",
    "band_1_uncertainty = np.array([\n",
    "    [10, 10.1, 10.2, 10.3, 10.4],\n",
    "    [11, 11.1, 11.2, 11.3, 11.4],\n",
    "    [12, 12.1, 12.2, 12.3, 12.4],\n",
    "    [13, 13.1, 13.2, 13.3, 13.4],\n",
    "    [14, 14.1, 14.2, 14.3, 14.4], \n",
    "]) "
   ]
  },
  {
   "cell_type": "markdown",
   "metadata": {},
   "source": [
    "### Write pixel values to each band of the data set\n",
    "For all bands other than the first, the value of each pixel is 100 more than the pixel directly below it in the previous band."
   ]
  },
  {
   "cell_type": "code",
   "execution_count": 6,
   "metadata": {},
   "outputs": [],
   "source": [
    "for i in range(0,5):\n",
    "    \n",
    "    dataset.write_band(\n",
    "        band_index=i,\n",
    "        array=(band_1_data + i * 100),\n",
    "        nodata=nodata\n",
    "    )\n",
    "    \n",
    "    dataset.write_pixel(band_index=i, row=3, column=4, value=nodata)\n",
    "\n",
    "    dataset_uncertainty.write_band(\n",
    "        band_index=i,\n",
    "        array=(band_1_uncertainty + i * 10),\n",
    "        nodata=nodata\n",
    "    )\n",
    "    \n",
    "dataset.write_pixel(band_index=2, row=2, column=4, value=nodata)\n",
    "    \n",
    "dataset.flush()\n",
    "dataset_uncertainty.flush()"
   ]
  },
  {
   "cell_type": "markdown",
   "metadata": {},
   "source": [
    "### Confirm some expected pixel values in the new data set and uncertainties"
   ]
  },
  {
   "cell_type": "code",
   "execution_count": 7,
   "metadata": {},
   "outputs": [],
   "source": [
    "assert dataset.value_at_pixel(band_index=0,row=0,column=0) == 100\n",
    "assert dataset.value_at_pixel(band_index=0,row=4,column=4) - 144.4 < 0.001\n",
    "\n",
    "assert math.isnan(dataset.value_at_pixel(band_index=0, row=3, column=4))\n",
    "assert math.isnan(dataset.value_at_pixel(band_index=1, row=3, column=4))\n",
    "assert math.isnan(dataset.value_at_pixel(band_index=2, row=3, column=4))\n",
    "assert math.isnan(dataset.value_at_pixel(band_index=3, row=3, column=4))\n",
    "assert math.isnan(dataset.value_at_pixel(band_index=4, row=3, column=4))\n",
    "assert math.isnan(dataset.value_at_pixel(band_index=2, row=2, column=4))"
   ]
  },
  {
   "cell_type": "markdown",
   "metadata": {},
   "source": [
    "### Display pixel values and uncertainties for each band of new data set for easy reference"
   ]
  },
  {
   "cell_type": "code",
   "execution_count": 8,
   "metadata": {
    "scrolled": true
   },
   "outputs": [
    {
     "name": "stdout",
     "output_type": "stream",
     "text": [
      "\n",
      "band index 0 \n",
      " [[100.  101.1 102.2 103.3 104.4]\n",
      " [110.  111.1 112.2 113.3 114.4]\n",
      " [120.  121.1 122.2 123.3 124.4]\n",
      " [130.  131.1 132.2 133.3   nan]\n",
      " [140.  141.1 142.2 143.3 144.4]] \n",
      " \n",
      "band 0 uncertainty\n",
      " [[10.  10.1 10.2 10.3 10.4]\n",
      " [11.  11.1 11.2 11.3 11.4]\n",
      " [12.  12.1 12.2 12.3 12.4]\n",
      " [13.  13.1 13.2 13.3 13.4]\n",
      " [14.  14.1 14.2 14.3 14.4]]\n",
      "\n",
      "band index 1 \n",
      " [[200.  201.1 202.2 203.3 204.4]\n",
      " [210.  211.1 212.2 213.3 214.4]\n",
      " [220.  221.1 222.2 223.3 224.4]\n",
      " [230.  231.1 232.2 233.3   nan]\n",
      " [240.  241.1 242.2 243.3 244.4]] \n",
      " \n",
      "band 1 uncertainty\n",
      " [[20.  20.1 20.2 20.3 20.4]\n",
      " [21.  21.1 21.2 21.3 21.4]\n",
      " [22.  22.1 22.2 22.3 22.4]\n",
      " [23.  23.1 23.2 23.3 23.4]\n",
      " [24.  24.1 24.2 24.3 24.4]]\n",
      "\n",
      "band index 2 \n",
      " [[300.  301.1 302.2 303.3 304.4]\n",
      " [310.  311.1 312.2 313.3 314.4]\n",
      " [320.  321.1 322.2 323.3   nan]\n",
      " [330.  331.1 332.2 333.3   nan]\n",
      " [340.  341.1 342.2 343.3 344.4]] \n",
      " \n",
      "band 2 uncertainty\n",
      " [[30.  30.1 30.2 30.3 30.4]\n",
      " [31.  31.1 31.2 31.3 31.4]\n",
      " [32.  32.1 32.2 32.3 32.4]\n",
      " [33.  33.1 33.2 33.3 33.4]\n",
      " [34.  34.1 34.2 34.3 34.4]]\n",
      "\n",
      "band index 3 \n",
      " [[400.  401.1 402.2 403.3 404.4]\n",
      " [410.  411.1 412.2 413.3 414.4]\n",
      " [420.  421.1 422.2 423.3 424.4]\n",
      " [430.  431.1 432.2 433.3   nan]\n",
      " [440.  441.1 442.2 443.3 444.4]] \n",
      " \n",
      "band 3 uncertainty\n",
      " [[40.  40.1 40.2 40.3 40.4]\n",
      " [41.  41.1 41.2 41.3 41.4]\n",
      " [42.  42.1 42.2 42.3 42.4]\n",
      " [43.  43.1 43.2 43.3 43.4]\n",
      " [44.  44.1 44.2 44.3 44.4]]\n",
      "\n",
      "band index 4 \n",
      " [[500.  501.1 502.2 503.3 504.4]\n",
      " [510.  511.1 512.2 513.3 514.4]\n",
      " [520.  521.1 522.2 523.3 524.4]\n",
      " [530.  531.1 532.2 533.3   nan]\n",
      " [540.  541.1 542.2 543.3 544.4]] \n",
      " \n",
      "band 4 uncertainty\n",
      " [[50.  50.1 50.2 50.3 50.4]\n",
      " [51.  51.1 51.2 51.3 51.4]\n",
      " [52.  52.1 52.2 52.3 52.4]\n",
      " [53.  53.1 53.2 53.3 53.4]\n",
      " [54.  54.1 54.2 54.3 54.4]]\n"
     ]
    }
   ],
   "source": [
    "for i in range(0,5):\n",
    "    print(\"\\nband index\", i, \"\\n\", \n",
    "          dataset.read_band(i), \"\\n\", \n",
    "          \"\\nband\", i, \"uncertainty\\n\", \n",
    "          dataset_uncertainty.read_band(i))"
   ]
  },
  {
   "cell_type": "code",
   "execution_count": null,
   "metadata": {},
   "outputs": [],
   "source": []
  }
 ],
 "metadata": {
  "kernelspec": {
   "display_name": "Python 3",
   "language": "python",
   "name": "python3"
  },
  "language_info": {
   "codemirror_mode": {
    "name": "ipython",
    "version": 3
   },
   "file_extension": ".py",
   "mimetype": "text/x-python",
   "name": "python",
   "nbconvert_exporter": "python",
   "pygments_lexer": "ipython3",
   "version": "3.6.5"
  }
 },
 "nbformat": 4,
 "nbformat_minor": 2
}
