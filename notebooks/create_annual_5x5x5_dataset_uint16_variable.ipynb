{
 "cells": [
  {
   "cell_type": "markdown",
   "metadata": {},
   "source": [
    "### Import standard GDAL and NumPy packages"
   ]
  },
  {
   "cell_type": "code",
   "execution_count": 1,
   "metadata": {},
   "outputs": [],
   "source": [
    "import numpy as np\n",
    "from osgeo import gdal"
   ]
  },
  {
   "cell_type": "markdown",
   "metadata": {},
   "source": [
    "### Import skope.RasterDataset class"
   ]
  },
  {
   "cell_type": "code",
   "execution_count": 2,
   "metadata": {},
   "outputs": [],
   "source": [
    "from skope import RasterDataset"
   ]
  },
  {
   "cell_type": "markdown",
   "metadata": {},
   "source": [
    "### Set the location and name of the data set file to create"
   ]
  },
  {
   "cell_type": "code",
   "execution_count": 3,
   "metadata": {},
   "outputs": [],
   "source": [
    "test_dataset_filename = '../data/annual_5x5x5_dataset_uint16_variable.tif'"
   ]
  },
  {
   "cell_type": "markdown",
   "metadata": {},
   "source": [
    "### Create a new RasterDataset"
   ]
  },
  {
   "cell_type": "code",
   "execution_count": 4,
   "metadata": {},
   "outputs": [],
   "source": [
    "dataset = RasterDataset.create(filename=test_dataset_filename,\n",
    "                               file_format='GTiff',\n",
    "                               pixel_type=gdal.GDT_UInt16,\n",
    "                               shape=(5, 5, 5),\n",
    "                               origin=(-123, 45),\n",
    "                               pixel_size=(1.0, 1.0))"
   ]
  },
  {
   "cell_type": "markdown",
   "metadata": {},
   "source": [
    "### Define the pixel values to be assigned to the first band of the data set"
   ]
  },
  {
   "cell_type": "code",
   "execution_count": 5,
   "metadata": {},
   "outputs": [],
   "source": [
    "nodata = 65535\n",
    "\n",
    "first_band_data = np.array([\n",
    "    [100, 101, 102, 103, 104],\n",
    "    [110, 111, 112, 113, 114],\n",
    "    [120, 121, 122, 123, 124],\n",
    "    [130, 131, 132, 133, 134],\n",
    "    [140, 141, 142, 143, 144]\n",
    "])"
   ]
  },
  {
   "cell_type": "markdown",
   "metadata": {},
   "source": [
    "### Write pixel values to each band of the data set\n",
    "For all bands other than the first, the value of each pixel is 100 more than the pixel directly below it in the previous band."
   ]
  },
  {
   "cell_type": "code",
   "execution_count": 6,
   "metadata": {},
   "outputs": [],
   "source": [
    "for i in range(0,5):\n",
    "    dataset.write_band(band_index=i,\n",
    "                       array=first_band_data + i * 100,\n",
    "                       nodata=nodata)\n",
    "    dataset.write_pixel(band_index=i, row=3, column=4, value=nodata)\n",
    "\n",
    "dataset.write_pixel(band_index=2, row=2, column=4, value=nodata)\n",
    "dataset.flush()"
   ]
  },
  {
   "cell_type": "markdown",
   "metadata": {},
   "source": [
    "### Confirm some expected pixel values in the new data set"
   ]
  },
  {
   "cell_type": "code",
   "execution_count": 7,
   "metadata": {},
   "outputs": [],
   "source": [
    "assert dataset.value_at_pixel(band_index=0,row=0,column=0) == 100\n",
    "assert dataset.value_at_pixel(band_index=0,row=4,column=4) == 144\n",
    "assert dataset.value_at_pixel(band_index=0,row=3,column=4) == 65535\n",
    "assert dataset.value_at_pixel(band_index=1,row=3,column=4) == 65535\n",
    "assert dataset.value_at_pixel(band_index=2,row=3,column=4) == 65535\n",
    "assert dataset.value_at_pixel(band_index=3,row=3,column=4) == 65535\n",
    "assert dataset.value_at_pixel(band_index=4,row=3,column=4) == 65535\n",
    "assert dataset.value_at_pixel(band_index=2,row=2,column=4) == 65535"
   ]
  },
  {
   "cell_type": "markdown",
   "metadata": {},
   "source": [
    "### Display pixel values in each band of new data set for easy reference"
   ]
  },
  {
   "cell_type": "code",
   "execution_count": 8,
   "metadata": {},
   "outputs": [
    {
     "name": "stdout",
     "output_type": "stream",
     "text": [
      "\n",
      "band index 0 \n",
      " [[  100   101   102   103   104]\n",
      " [  110   111   112   113   114]\n",
      " [  120   121   122   123   124]\n",
      " [  130   131   132   133 65535]\n",
      " [  140   141   142   143   144]]\n",
      "\n",
      "band index 1 \n",
      " [[  200   201   202   203   204]\n",
      " [  210   211   212   213   214]\n",
      " [  220   221   222   223   224]\n",
      " [  230   231   232   233 65535]\n",
      " [  240   241   242   243   244]]\n",
      "\n",
      "band index 2 \n",
      " [[  300   301   302   303   304]\n",
      " [  310   311   312   313   314]\n",
      " [  320   321   322   323 65535]\n",
      " [  330   331   332   333 65535]\n",
      " [  340   341   342   343   344]]\n",
      "\n",
      "band index 3 \n",
      " [[  400   401   402   403   404]\n",
      " [  410   411   412   413   414]\n",
      " [  420   421   422   423   424]\n",
      " [  430   431   432   433 65535]\n",
      " [  440   441   442   443   444]]\n",
      "\n",
      "band index 4 \n",
      " [[  500   501   502   503   504]\n",
      " [  510   511   512   513   514]\n",
      " [  520   521   522   523   524]\n",
      " [  530   531   532   533 65535]\n",
      " [  540   541   542   543   544]]\n"
     ]
    }
   ],
   "source": [
    "for i in range(0, 5):\n",
    "    print(\"\\nband index\", i, \"\\n\", dataset.read_band(i))"
   ]
  },
  {
   "cell_type": "code",
   "execution_count": null,
   "metadata": {},
   "outputs": [],
   "source": []
  }
 ],
 "metadata": {
  "kernelspec": {
   "display_name": "Python 3",
   "language": "python",
   "name": "python3"
  },
  "language_info": {
   "codemirror_mode": {
    "name": "ipython",
    "version": 3
   },
   "file_extension": ".py",
   "mimetype": "text/x-python",
   "name": "python",
   "nbconvert_exporter": "python",
   "pygments_lexer": "ipython3",
   "version": "3.6.5"
  }
 },
 "nbformat": 4,
 "nbformat_minor": 2
}
